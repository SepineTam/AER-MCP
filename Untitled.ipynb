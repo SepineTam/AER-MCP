{
 "cells": [
  {
   "cell_type": "code",
   "execution_count": 2,
   "id": "51884085-5300-48d1-9729-0f03f92847d3",
   "metadata": {},
   "outputs": [],
   "source": [
    "import requests\n"
   ]
  },
  {
   "cell_type": "code",
   "execution_count": 3,
   "id": "0a31223f-0ca7-47a3-8899-0533ecc93cd0",
   "metadata": {},
   "outputs": [],
   "source": [
    "doi = \"10.1257/aer.20181249\"\n",
    "url = f\"https://api.crossref.org/works/{doi}\"\n",
    "headers = {\"Accept\": \"application/json\"}\n",
    "response = requests.get(url, headers=headers)"
   ]
  },
  {
   "cell_type": "code",
   "execution_count": 4,
   "id": "af1a0de5-b695-4d31-b58a-a1b1ba50ef99",
   "metadata": {},
   "outputs": [
    {
     "data": {
      "text/plain": [
       "200"
      ]
     },
     "execution_count": 4,
     "metadata": {},
     "output_type": "execute_result"
    }
   ],
   "source": [
    "response.status_code"
   ]
  },
  {
   "cell_type": "code",
   "execution_count": 6,
   "id": "ffd90ce2-c5ef-4ecd-9734-73633d8cc799",
   "metadata": {},
   "outputs": [],
   "source": [
    "data = response.json()"
   ]
  },
  {
   "cell_type": "code",
   "execution_count": 8,
   "id": "e576470e-cfce-4f62-9922-a655da3968a2",
   "metadata": {},
   "outputs": [
    {
     "data": {
      "text/plain": [
       "'<jats:p>We posit that autocrats introduce local elections when their bureaucratic capacity is low. Local elections exploit citizens’ informational advantage in keeping local officials accountable, but they also weaken vertical control. As bureaucratic capacity increases, the autocrat limits the role of elected bodies to regain vertical control. We argue that these insights can explain the introduction of village elections in rural China and the subsequent erosion of village autonomy years later. We construct a novel dataset to document political reforms, policy outcomes, and de facto power for almost four decades. We find that the introduction of elections improves popular policies and weakens unpopular ones. Increases in regional government resources lead to loss of village autonomy, but less so in remote villages. These patterns are consistent with an organizational view of local elections within autocracies. (JEL D72, D73, D83, O17, O18, P25, P26)</jats:p>'"
      ]
     },
     "execution_count": 8,
     "metadata": {},
     "output_type": "execute_result"
    }
   ],
   "source": [
    "data['message']['abstract']"
   ]
  },
  {
   "cell_type": "code",
   "execution_count": 9,
   "id": "e19f088c-95d7-4145-83e0-7bb6ccfd1c8b",
   "metadata": {},
   "outputs": [
    {
     "ename": "TypeError",
     "evalue": "string indices must be integers, not 'str'",
     "output_type": "error",
     "traceback": [
      "\u001b[0;31m---------------------------------------------------------------------------\u001b[0m",
      "\u001b[0;31mTypeError\u001b[0m                                 Traceback (most recent call last)",
      "Cell \u001b[0;32mIn[9], line 1\u001b[0m\n\u001b[0;32m----> 1\u001b[0m response\u001b[38;5;241m.\u001b[39mtext[\u001b[38;5;124m'\u001b[39m\u001b[38;5;124mmessage\u001b[39m\u001b[38;5;124m'\u001b[39m][\u001b[38;5;124m'\u001b[39m\u001b[38;5;124mabstract\u001b[39m\u001b[38;5;124m'\u001b[39m]\n",
      "\u001b[0;31mTypeError\u001b[0m: string indices must be integers, not 'str'"
     ]
    }
   ],
   "source": [
    "response.text['message']['abstract']"
   ]
  },
  {
   "cell_type": "code",
   "execution_count": 11,
   "id": "8592a4cc-407b-49bf-a0c0-022d1e06c025",
   "metadata": {},
   "outputs": [],
   "source": [
    "from bs4 import BeautifulSoup\n",
    "\n",
    "soup = BeautifulSoup(response.text, 'html.parser')"
   ]
  },
  {
   "cell_type": "code",
   "execution_count": 12,
   "id": "28fd61ef-12b3-4688-9eab-5989c0e8fab2",
   "metadata": {},
   "outputs": [
    {
     "ename": "KeyError",
     "evalue": "'message'",
     "output_type": "error",
     "traceback": [
      "\u001b[0;31m---------------------------------------------------------------------------\u001b[0m",
      "\u001b[0;31mKeyError\u001b[0m                                  Traceback (most recent call last)",
      "Cell \u001b[0;32mIn[12], line 1\u001b[0m\n\u001b[0;32m----> 1\u001b[0m soup[\u001b[38;5;124m'\u001b[39m\u001b[38;5;124mmessage\u001b[39m\u001b[38;5;124m'\u001b[39m][\u001b[38;5;124m'\u001b[39m\u001b[38;5;124mabstract\u001b[39m\u001b[38;5;124m'\u001b[39m]\n",
      "File \u001b[0;32m/opt/anaconda3/lib/python3.11/site-packages/bs4/element.py:1573\u001b[0m, in \u001b[0;36mTag.__getitem__\u001b[0;34m(self, key)\u001b[0m\n\u001b[1;32m   1570\u001b[0m \u001b[38;5;28;01mdef\u001b[39;00m \u001b[38;5;21m__getitem__\u001b[39m(\u001b[38;5;28mself\u001b[39m, key):\n\u001b[1;32m   1571\u001b[0m \u001b[38;5;250m    \u001b[39m\u001b[38;5;124;03m\"\"\"tag[key] returns the value of the 'key' attribute for the Tag,\u001b[39;00m\n\u001b[1;32m   1572\u001b[0m \u001b[38;5;124;03m    and throws an exception if it's not there.\"\"\"\u001b[39;00m\n\u001b[0;32m-> 1573\u001b[0m     \u001b[38;5;28;01mreturn\u001b[39;00m \u001b[38;5;28mself\u001b[39m\u001b[38;5;241m.\u001b[39mattrs[key]\n",
      "\u001b[0;31mKeyError\u001b[0m: 'message'"
     ]
    }
   ],
   "source": [
    "soup['message']['abstract']"
   ]
  },
  {
   "cell_type": "code",
   "execution_count": 13,
   "id": "d8849a45-d279-4514-ad0e-93f541a2caa8",
   "metadata": {},
   "outputs": [
    {
     "data": {
      "text/plain": [
       "{\"status\":\"ok\",\"message-type\":\"work\",\"message-version\":\"1.0.0\",\"message\":{\"indexed\":{\"date-parts\":[[2025,4,18]],\"date-time\":\"2025-04-18T01:27:26Z\",\"timestamp\":1744939646569},\"reference-count\":89,\"publisher\":\"American Economic Association\",\"issue\":\"9\",\"content-domain\":{\"domain\":[],\"crossmark-restriction\":false},\"short-container-title\":[\"American Economic Review\"],\"published-print\":{\"date-parts\":[[2022,9,1]]},\"abstract\":\"<jats:p>We posit that autocrats introduce local elections when their bureaucratic capacity is low. Local elections exploit citizens\\u2019 informational advantage in keeping local officials accountable, but they also weaken vertical control. As bureaucratic capacity increases, the autocrat limits the role of elected bodies to regain vertical control. We argue that these insights can explain the introduction of village elections in rural China and the subsequent erosion of village autonomy years later. We construct a novel dataset to document political reforms, policy outcomes, and de facto power for almost four decades. We find that the introduction of elections improves popular policies and weakens unpopular ones. Increases in regional government resources lead to loss of village autonomy, but less so in remote villages. These patterns are consistent with an organizational view of local elections within autocracies. (JEL D72, D73, D83, O17, O18, P25, P26)&lt;\\/jats:p&gt;\",\"DOI\":\"10.1257\\/aer.20181249\",\"type\":\"journal-article\",\"created\":{\"date-parts\":[[2022,8,30]],\"date-time\":\"2022-08-30T12:17:03Z\",\"timestamp\":1661861823000},\"page\":\"2921-2958\",\"source\":\"Crossref\",\"is-referenced-by-count\":60,\"title\":[\"The Rise and Fall of Local Elections in China\"],\"prefix\":\"10.1257\",\"volume\":\"112\",\"author\":[{\"given\":\"Monica\",\"family\":\"Martinez-Bravo\",\"sequence\":\"first\",\"affiliation\":[{\"name\":\"CEMFI, CEPR, BREAD (email: )\"}]},{\"given\":\"Gerard\",\"family\":\"Padr\\u00f3 I Miquel\",\"sequence\":\"additional\",\"affiliation\":[{\"name\":\"Yale University, NBER, CEPR, BREAD (email: )\"}]},{\"given\":\"Nancy\",\"family\":\"Qian\",\"sequence\":\"additional\",\"affiliation\":[{\"name\":\"Northwestern Kellogg, Fudan FISF, NBER, CEPR, BREAD (email: )\"}]},{\"given\":\"Yang\",\"family\":\"Yao\",\"sequence\":\"additional\",\"affiliation\":[{\"name\":\"CCER, Peking University (email: )\"}]}],\"member\":\"11\",\"reference\":[{\"key\":\"p_1\",\"doi-asserted-by\":\"publisher\",\"DOI\":\"10.1016\\/j.jmoneco.2009.10.002\"},{\"key\":\"p_2\",\"doi-asserted-by\":\"publisher\",\"DOI\":\"10.1086\\/262063\"},{\"key\":\"p_3\",\"doi-asserted-by\":\"publisher\",\"DOI\":\"10.1080\\/00074910302013\"},{\"key\":\"p_4\",\"unstructured\":\"Antlov, Hans, and Sven Cederroth. 1994. Rural Leadership on Java: Gentle Hints, Authoritarian Rule. New York, NY: Routledge.\"},{\"key\":\"p_5\",\"doi-asserted-by\":\"crossref\",\"unstructured\":\"Bardhan, Pranab, and Dilip Mookherjee. 2006. \\\"Decentralization, Corruption and Government Accountability: An Overview.\\\" In International Handbook of the Economics of Corruption, edited by Susan Rose-Ackerman, 161-188. Northampton, MA: Edward Elgar Publishing.\",\"DOI\":\"10.4337\\/9781847203106.00013\"},{\"key\":\"p_6\",\"doi-asserted-by\":\"publisher\",\"DOI\":\"10.1093\\/restud\\/rdw018\"},{\"key\":\"p_7\",\"doi-asserted-by\":\"publisher\",\"DOI\":\"10.1162\\/003355302320935061\"},{\"key\":\"p_8\",\"doi-asserted-by\":\"crossref\",\"unstructured\":\"Besley, Timothy, and Torsten Persson. 2013. \\\"Taxation and Development.\\\" In Handbook of Public Economics, edited by Alan J. Auerbach, Raj Chetty, Martin Feldstein, and Emmanuel Saez, 51-110. Amsterdam: Elsevier.\",\"DOI\":\"10.1016\\/B978-0-444-53759-1.00002-9\"},{\"key\":\"p_9\",\"doi-asserted-by\":\"crossref\",\"unstructured\":\"Bidner, Chris, Patrick Francois, and Francesco Trebbi. 2015. \\\"A Theory of Minimalist Democracy.\\\" Unpublished.\",\"DOI\":\"10.3386\\/w20552\"},{\"key\":\"p_10\",\"unstructured\":\"Birney, Mayling Edina. 2007. \\\"Can Local Elections Contribute to Democratic Progress in Authoritarian Regimes?\\\" PhD diss. Yale University.\"},{\"key\":\"p_11\",\"doi-asserted-by\":\"publisher\",\"DOI\":\"10.1162\\/qjec.2009.124.2.735\"},{\"key\":\"p_12\",\"unstructured\":\"Bobonis, Gustavo, Luis R. C\\u00e1mara Fuentes, and Rainer Schwabe. 2010. \\\"Does Exposing Corrupt Politicians Reduce Corruption?\\\" Unpublished.\"},{\"key\":\"p_13\",\"doi-asserted-by\":\"publisher\",\"DOI\":\"10.1017\\/S0022381613000029\"},{\"key\":\"p_14\",\"doi-asserted-by\":\"publisher\",\"DOI\":\"10.1111\\/j.1468-0343.2007.00316.x\"},{\"key\":\"p_15\",\"doi-asserted-by\":\"publisher\",\"DOI\":\"10.1353\\/wp.2007.0005\"},{\"key\":\"p_16\",\"doi-asserted-by\":\"publisher\",\"DOI\":\"10.1016\\/j.jdeveco.2020.102523\"},{\"key\":\"p_17\",\"doi-asserted-by\":\"publisher\",\"DOI\":\"10.1162\\/rest.90.3.414\"},{\"key\":\"p_18\",\"doi-asserted-by\":\"crossref\",\"unstructured\":\"Campante, Filipe, Davin Chor, and Bingjing Li. 2019. \\\"The Political Economy Consequences of China's Export Slowdown.\\\" NBER Working Paper 25925.\",\"DOI\":\"10.3386\\/w25925\"},{\"key\":\"p_19\",\"doi-asserted-by\":\"publisher\",\"DOI\":\"10.1093\\/qje\\/qjz002\"},{\"key\":\"p_20\",\"unstructured\":\"Chen, Shuo, Xinyu Fan, and Xuanyi Wang. 2021. \\\"Party Secretary Career Data. Collected for Project: Starving and Deceiving? How Disasters Reshape Politicians' Incentives to Lie.\\\" Fudan University.\"},{\"key\":\"p_21\",\"unstructured\":\"China Data Online. 1986-2005. All China Marketing Resarch Co., Ltd (ACMR). https:\\/\\/www.chinadata-online.com\\/ (accessed June 5, 2022).\"},{\"key\":\"p_22\",\"unstructured\":\"China Labour Bulletin. 2011. \\\"Strike Map.\\\" https:\\/\\/clb.org.hk\\/ (accessed June 7, 2022).\"},{\"key\":\"p_23\",\"doi-asserted-by\":\"publisher\",\"DOI\":\"10.3982\\/ECTA17497\"},{\"key\":\"p_24\",\"doi-asserted-by\":\"publisher\",\"DOI\":\"10.1093\\/restud\\/rdr010\"},{\"key\":\"p_25\",\"doi-asserted-by\":\"crossref\",\"unstructured\":\"De Janvry, Alain, Frederico Finan, and Elisabeth Sadoulet. 2010. \\\"Local Electoral Incentives and Decentralized Program Performance.\\\" NBER Working Paper 16635.\",\"DOI\":\"10.3386\\/w16635\"},{\"key\":\"p_26\",\"doi-asserted-by\":\"publisher\",\"DOI\":\"10.1111\\/1467-937X.00227\"},{\"key\":\"p_27\",\"first-page\":\"1650\",\"author\":\"Dincecco Mark\",\"year\":\"2011\",\"journal-title\":\"Europe\"},{\"key\":\"p_28\",\"doi-asserted-by\":\"publisher\",\"DOI\":\"10.1086\\/690948\"},{\"key\":\"p_29\",\"doi-asserted-by\":\"publisher\",\"DOI\":\"10.1017\\/S0003055409990219\"},{\"key\":\"p_30\",\"doi-asserted-by\":\"publisher\",\"DOI\":\"10.1162\\/qjec.2008.123.2.703\"},{\"key\":\"p_31\",\"doi-asserted-by\":\"publisher\",\"DOI\":\"10.1257\\/aer.101.4.1274\"},{\"key\":\"p_32\",\"unstructured\":\"Gan, Li, Lixin Colin Xu, and Yang Yao. 2007. \\\"Local Elections and Consumption Insurance: Evidence from Chinese Villages.\\\" World Bank Policy Research Working Paper 4205.\"},{\"key\":\"p_33\",\"doi-asserted-by\":\"publisher\",\"DOI\":\"10.1146\\/annurev.polisci.11.060106.095434\"},{\"key\":\"p_34\",\"doi-asserted-by\":\"publisher\",\"DOI\":\"10.1111\\/j.1468-0343.2006.00160.x\"},{\"key\":\"p_35\",\"unstructured\":\"Geddes, Barbara. 2005. \\\"Why Parties and Elections in Authoritarian Regimes?\\\" Paper presented at the American Political Science Association Annual Meeting, Washington, DC.\"},{\"key\":\"p_36\",\"doi-asserted-by\":\"publisher\",\"DOI\":\"10.1146\\/annurev-polisci-042114-014927\"},{\"key\":\"p_37\",\"doi-asserted-by\":\"publisher\",\"DOI\":\"10.1093\\/restud\\/rdt040\"},{\"key\":\"p_38\",\"doi-asserted-by\":\"crossref\",\"unstructured\":\"He, Guojun, and Shaoda Wang. Forthcoming. \\\"Do College Graduates Serving as Village Of cials Help Rural China?\\\" American Economic Journal: Applied 9 (4): 186-215.\",\"DOI\":\"10.1257\\/app.20160079\"},{\"key\":\"p_39\",\"doi-asserted-by\":\"publisher\",\"DOI\":\"10.1007\\/s12116-007-9014-4\"},{\"key\":\"p_40\",\"doi-asserted-by\":\"publisher\",\"DOI\":\"10.2307\\/3003320\"},{\"key\":\"p_41\",\"unstructured\":\"Institute of Social Science Survey, Peking University. 2015. \\\"China Family Panel Studies (CFPS),\\\" 2015. https:\\/\\/doi.org\\/10.18170\\/DVN\\/45LCSO Peking University Open Research Data Platform, V42. Round 2012.\"},{\"key\":\"p_42\",\"doi-asserted-by\":\"publisher\",\"DOI\":\"10.1111\\/jeea.12124\"},{\"key\":\"p_43\",\"doi-asserted-by\":\"publisher\",\"DOI\":\"10.1162\\/REST_a_00563\"},{\"key\":\"p_44\",\"doi-asserted-by\":\"publisher\",\"DOI\":\"10.2307\\/2950218\"},{\"key\":\"p_45\",\"doi-asserted-by\":\"publisher\",\"DOI\":\"10.1093\\/qje\\/qjv042\"},{\"key\":\"p_46\",\"doi-asserted-by\":\"publisher\",\"DOI\":\"10.1086\\/674558\"},{\"key\":\"p_47\",\"doi-asserted-by\":\"publisher\",\"DOI\":\"10.1037\\/0022-3514.57.3.416\"},{\"key\":\"p_48\",\"doi-asserted-by\":\"crossref\",\"unstructured\":\"Landry, Pierre F. 2008. Decentralized Authoritarianism in China: The Communist Party's Control of Local Elites in the Post-Mao Era. New York, NY: Cambridge University Press.\",\"DOI\":\"10.1017\\/CBO9780511510243\"},{\"key\":\"p_49\",\"doi-asserted-by\":\"publisher\",\"DOI\":\"10.1016\\/j.jpubeco.2004.06.009\"},{\"key\":\"p_50\",\"doi-asserted-by\":\"publisher\",\"DOI\":\"10.1561\\/100.00012051\"},{\"key\":\"p_51\",\"doi-asserted-by\":\"publisher\",\"DOI\":\"10.1080\\/00220380903318061\"},{\"key\":\"p_52\",\"doi-asserted-by\":\"publisher\",\"DOI\":\"10.1177\\/0010414007313124\"},{\"key\":\"p_53\",\"doi-asserted-by\":\"publisher\",\"DOI\":\"10.1017\\/S1598240800008523\"},{\"key\":\"p_54\",\"doi-asserted-by\":\"publisher\",\"DOI\":\"10.1177\\/0010414005280852\"},{\"key\":\"p_55\",\"unstructured\":\"Martinez-Bravo, Monica, Gerard Padr\\u00f3 i Miquel, Nancy Qian, Yiqing Xu, and Yang Yao. 2017. \\\"Making Democracy Work: The Effect of Social Capital on Elections in China.\\\" Unpublished.\"},{\"key\":\"p_56\",\"unstructured\":\"Martinez-Bravo, Monica, Gerard Padr\\u00f3 i Miquel, Nancy Qian, and Yang Yao. 2006. \\\"Village Democracy Survey.\\\"\"},{\"key\":\"p_57\",\"unstructured\":\"Martinez-Bravo, Monica, Gerard Padr\\u00f3 i Miquel, Nancy Qian, and Yang Yao. 2011 \\\"Village Democracy Survey.\\\"\"},{\"key\":\"p_58\",\"unstructured\":\"Martinez-Bravo, Monica, Gerard Padr\\u00f3 i Miquel, Nancy Qian, and Yang Yao. 2019. \\\"Village Democracy Survey.\\\"\"},{\"key\":\"p_59\",\"unstructured\":\"Martinez-Bravo, Monica, Gerard Padr\\u00f3 i Miquel, Nancy Qian, and Yang Yao. 2022. \\\"Replication Data for: The Rise and Fall of Local Elections in China.\\\" American Economic Association [publisher], Inter-university Consortium for Political and Social Research [distributor]. https:\\/\\/doi.org\\/10.3886\\/ V166506V1.\"},{\"key\":\"p_60\",\"doi-asserted-by\":\"publisher\",\"DOI\":\"10.1093\\/restud\\/rdv016\"},{\"key\":\"p_61\",\"doi-asserted-by\":\"publisher\",\"DOI\":\"10.1177\\/0010414014555443\"},{\"key\":\"p_62\",\"doi-asserted-by\":\"publisher\",\"DOI\":\"10.1257\\/jel.44.2.367\"},{\"key\":\"p_63\",\"doi-asserted-by\":\"publisher\",\"DOI\":\"10.1017\\/S0003055408080076\"},{\"key\":\"p_64\",\"unstructured\":\"Myerson, Roger B. 2015. \\\"Local Agency Costs of Political Centralization.\\\" Unpublished.\"},{\"key\":\"p_65\",\"doi-asserted-by\":\"publisher\",\"DOI\":\"10.1007\\/s10797-005-1619-9\"},{\"key\":\"p_66\",\"doi-asserted-by\":\"publisher\",\"DOI\":\"10.2307\\/2949826\"},{\"key\":\"p_67\",\"unstructured\":\"O'Brien, Kevin J., and Lianjiang Li. 1999. \\\"The Struggle over Village Elections.\\\" In The Paradox of China's Post-Mao Reforms, edited by Merle Goldman and Roderick MacFarquhar. Cambridge, MA: Harvard University Press.\"},{\"key\":\"p_68\",\"doi-asserted-by\":\"publisher\",\"DOI\":\"10.1017\\/S0305741000008213\"},{\"key\":\"p_69\",\"doi-asserted-by\":\"publisher\",\"DOI\":\"10.1017\\/S0305741012000823\"},{\"key\":\"p_70\",\"doi-asserted-by\":\"crossref\",\"unstructured\":\"Padr\\u00f3 i Miquel, Gerard, Nancy Qian, and Yang Yao. 2012. \\\"Social Fragmentation, Public Goods and Elections: Evidence from China.\\\" NBER Working Paper 18633.\",\"DOI\":\"10.3386\\/w18633\"},{\"key\":\"p_71\",\"doi-asserted-by\":\"publisher\",\"DOI\":\"10.1111\\/jeea.12142\"},{\"key\":\"p_72\",\"unstructured\":\"Qian, Nancy. 2017. \\\"Quantity Quality and the One Child Advantage in China.\\\" Unpublished.\"},{\"key\":\"p_73\",\"doi-asserted-by\":\"crossref\",\"unstructured\":\"Qian, Yingyi. 2003. \\\"How Reform Worked in China.\\\" In In Search of Prosperity: Analytic Narratives on Economic Growth, edited by Dani Rodrik, 297-333. Princeton, NJ: Princeton University Press.\",\"DOI\":\"10.1515\\/9781400845897-013\"},{\"key\":\"p_74\",\"doi-asserted-by\":\"publisher\",\"DOI\":\"10.1257\\/jep.31.1.117\"},{\"key\":\"p_75\",\"unstructured\":\"Research Center for Rural Economy, Ministry of Agriculture. 1986-2005. \\\"National Fixed Point Survey.\\\"\"},{\"key\":\"p_76\",\"unstructured\":\"Roland, G\\u00e9rard. 2000. Transition and Economics: Politics, Markets and Firms. Cambridge, MA: MIT Press.\"},{\"key\":\"p_77\",\"doi-asserted-by\":\"publisher\",\"DOI\":\"10.1111\\/ecoj.12036\"},{\"key\":\"p_78\",\"doi-asserted-by\":\"publisher\",\"DOI\":\"10.1016\\/j.jpubeco.2008.04.002\"},{\"key\":\"p_79\",\"doi-asserted-by\":\"crossref\",\"unstructured\":\"Teets, Jessica C. 2014. Civil Society under Authoritarianism: The China Model. New York, NY: Cambridge University Press.\",\"DOI\":\"10.1017\\/CBO9781139839396\"},{\"key\":\"p_80\",\"doi-asserted-by\":\"crossref\",\"unstructured\":\"Thaxton, Ralph A., Jr. 2008. \\\"The Escape from Famine and Death,\\\" In Catastrophe and Contention in Rural China: Mao's Great Leap Forward Famine and the Origins of Righteous Resistance in Da Fo Village, 199-230. New York, NY: Cambridge University Press.\",\"DOI\":\"10.1017\\/CBO9780511756085.011\"},{\"key\":\"p_81\",\"doi-asserted-by\":\"crossref\",\"unstructured\":\"Truex, Rory. 2016. Making Autocracy Work: Representation and Responsiveness in Modern China. New York, NY: Cambridge University Press.\",\"DOI\":\"10.1017\\/CBO9781316771785\"},{\"key\":\"p_82\",\"doi-asserted-by\":\"crossref\",\"unstructured\":\"Tsai, Lily L. 2007. Accountability without Democracy: Solidary Groups and Public Goods Provision in Rural China. New York, NY: Cambridge University Press.\",\"DOI\":\"10.1017\\/CBO9780511800115\"},{\"key\":\"p_83\",\"unstructured\":\"Unger, Jonathan. 2002. The Transformation of Rural China, Asia and the Pacific. Armonk, NY: M.E. Sharpe.\"},{\"key\":\"p_84\",\"unstructured\":\"United Cities and Local Governments. 2007. Decentralization and Local Democracy in the World. Barcelona, Spain: United Cities and Local Government.\"},{\"key\":\"p_85\",\"doi-asserted-by\":\"crossref\",\"unstructured\":\"Walden, Jacob, and Yuri M. Zhukov. 2020. Historical Legacies of Political Violence. New York, NY: Oxford University Press.\",\"DOI\":\"10.1093\\/acrefore\\/9780190228637.013.1788\"},{\"key\":\"p_86\",\"doi-asserted-by\":\"crossref\",\"unstructured\":\"Walder, Andrew G. 2019. Agents of Disorder: Inside China's Cultural Revolution. Cambridge, MA: Belknap Press.\",\"DOI\":\"10.4159\\/9780674243637\"},{\"key\":\"p_87\",\"unstructured\":\"Wen, Jaya Y. 2020. \\\"The Political Economy of State Employment and Instability in China.\\\" Unpublished.\"},{\"key\":\"p_88\",\"doi-asserted-by\":\"publisher\",\"DOI\":\"10.1525\\/curh.1992.91.566.273\"},{\"key\":\"p_89\",\"doi-asserted-by\":\"publisher\",\"DOI\":\"10.1016\\/j.jpubeco.2003.07.004\"}],\"container-title\":[\"American Economic Review\"],\"original-title\":[],\"language\":\"en\",\"link\":[{\"URL\":\"https:\\/\\/pubs.aeaweb.org\\/doi\\/pdf\\/10.1257\\/aer.20181249\",\"content-type\":\"unspecified\",\"content-version\":\"vor\",\"intended-application\":\"similarity-checking\"}],\"deposited\":{\"date-parts\":[[2023,11,26]],\"date-time\":\"2023-11-26T09:11:29Z\",\"timestamp\":1700989889000},\"score\":1,\"resource\":{\"primary\":{\"URL\":\"https:\\/\\/pubs.aeaweb.org\\/doi\\/10.1257\\/aer.20181249\"}},\"subtitle\":[],\"short-title\":[],\"issued\":{\"date-parts\":[[2022,9,1]]},\"references-count\":89,\"journal-issue\":{\"issue\":\"9\",\"published-print\":{\"date-parts\":[[2022,9,1]]}},\"alternative-id\":[\"10.1257\\/aer.20181249\"],\"URL\":\"https:\\/\\/doi.org\\/10.1257\\/aer.20181249\",\"relation\":{},\"ISSN\":[\"0002-8282\"],\"issn-type\":[{\"value\":\"0002-8282\",\"type\":\"print\"}],\"subject\":[],\"published\":{\"date-parts\":[[2022,9,1]]}}}</jats:p>"
      ]
     },
     "execution_count": 13,
     "metadata": {},
     "output_type": "execute_result"
    }
   ],
   "source": [
    "soup\n"
   ]
  },
  {
   "cell_type": "code",
   "execution_count": null,
   "id": "b433a7bf-81df-473f-b098-31e0dcae76ed",
   "metadata": {},
   "outputs": [],
   "source": []
  }
 ],
 "metadata": {
  "kernelspec": {
   "display_name": "Python 3 (ipykernel)",
   "language": "python",
   "name": "python3"
  },
  "language_info": {
   "codemirror_mode": {
    "name": "ipython",
    "version": 3
   },
   "file_extension": ".py",
   "mimetype": "text/x-python",
   "name": "python",
   "nbconvert_exporter": "python",
   "pygments_lexer": "ipython3",
   "version": "3.11.8"
  }
 },
 "nbformat": 4,
 "nbformat_minor": 5
}
